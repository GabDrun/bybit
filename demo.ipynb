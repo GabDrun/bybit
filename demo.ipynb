{
 "cells": [
  {
   "cell_type": "code",
   "execution_count": 1,
   "metadata": {},
   "outputs": [],
   "source": [
    "from info_requests.InstrumentsInfo import InstrumentsInfo\n",
    "from info_requests.KlineInfo import KlinesInfo\n",
    "import infoStoring as db"
   ]
  },
  {
   "cell_type": "code",
   "execution_count": 2,
   "metadata": {},
   "outputs": [],
   "source": [
    "def get_instruments():\n",
    "    instruments = InstrumentsInfo()\n",
    "    instruments.add_instruments('spot', ['BTCUSDT', 'ETHUSDT', 'XRPUSDT'])\n",
    "\n",
    "    return instruments\n",
    "\n",
    "\n",
    "def get_klines():\n",
    "    categoty = \"spot\"\n",
    "    symbols = [\"BTCUSDT\", \"ETHUSDT\"]\n",
    "\n",
    "    klines_info = KlinesInfo()\n",
    "    klines_info.add_klines(categoty, symbols, 60)\n",
    "\n",
    "    return klines_info"
   ]
  },
  {
   "cell_type": "code",
   "execution_count": 15,
   "metadata": {},
   "outputs": [
    {
     "name": "stdout",
     "output_type": "stream",
     "text": [
      "spot:BTCUSDT\n",
      "category: spot\n",
      "symbol: BTCUSDT\n",
      "baseCoin: BTC\n",
      "quoteCoin: USDT\n",
      "innovation: 0\n",
      "status: Trading\n",
      "basePrecision: 0.000001\n",
      "quotePrecision: 0.00000001\n",
      "minOrderQty: 0.00004\n",
      "maxOrderQty: 500\n",
      "minOrderAmt: 1\n",
      "maxOrderAmt: 1200000\n",
      "tickSize: 0.01\n",
      "\n",
      "spot:ETHUSDT\n",
      "category: spot\n",
      "symbol: ETHUSDT\n",
      "baseCoin: ETH\n",
      "quoteCoin: USDT\n",
      "innovation: 0\n",
      "status: Trading\n",
      "basePrecision: 0.00001\n",
      "quotePrecision: 0.0000001\n",
      "minOrderQty: 0.0005\n",
      "maxOrderQty: 100000000\n",
      "minOrderAmt: 1\n",
      "maxOrderAmt: 1200000\n",
      "tickSize: 0.01\n",
      "\n",
      "spot:XRPUSDT\n",
      "category: spot\n",
      "symbol: XRPUSDT\n",
      "baseCoin: XRP\n",
      "quoteCoin: USDT\n",
      "innovation: 0\n",
      "status: Trading\n",
      "basePrecision: 0.01\n",
      "quotePrecision: 0.000001\n",
      "minOrderQty: 1\n",
      "maxOrderQty: 4476275.738585\n",
      "minOrderAmt: 10\n",
      "maxOrderAmt: 1000000\n",
      "tickSize: 0.0001\n",
      "\n",
      "category: spot\n",
      "symbol: BTCUSDT\n",
      "baseCoin: BTC\n",
      "quoteCoin: USDT\n",
      "innovation: 0\n",
      "status: Trading\n",
      "basePrecision: 0.000001\n",
      "quotePrecision: 0.00000001\n",
      "minOrderQty: 0.00004\n",
      "maxOrderQty: 500\n",
      "minOrderAmt: 1\n",
      "maxOrderAmt: 1200000\n",
      "tickSize: 0.01\n",
      "\n",
      "category: spot\n",
      "symbol: ETHUSDT\n",
      "baseCoin: ETH\n",
      "quoteCoin: USDT\n",
      "innovation: 0\n",
      "status: Trading\n",
      "basePrecision: 0.00001\n",
      "quotePrecision: 0.0000001\n",
      "minOrderQty: 0.0005\n",
      "maxOrderQty: 100000000\n",
      "minOrderAmt: 1\n",
      "maxOrderAmt: 1200000\n",
      "tickSize: 0.01\n",
      "\n",
      "category: spot\n",
      "symbol: XRPUSDT\n",
      "baseCoin: XRP\n",
      "quoteCoin: USDT\n",
      "innovation: 0\n",
      "status: Trading\n",
      "basePrecision: 0.01\n",
      "quotePrecision: 0.000001\n",
      "minOrderQty: 1\n",
      "maxOrderQty: 4476275.738585\n",
      "minOrderAmt: 10\n",
      "maxOrderAmt: 1000000\n",
      "tickSize: 0.0001\n",
      "\n"
     ]
    }
   ],
   "source": [
    "instruments = get_instruments()\n",
    "for instrument in instruments:\n",
    "        print(instrument)\n",
    "        print(instruments[instrument])\n",
    "\n",
    "# alternative\n",
    "for instrument in instruments.list.values():\n",
    "        print(instrument)"
   ]
  },
  {
   "cell_type": "code",
   "execution_count": 8,
   "metadata": {},
   "outputs": [
    {
     "name": "stdout",
     "output_type": "stream",
     "text": [
      "spot:BTCUSDT:60\n",
      "symbol: BTCUSDT\n",
      "category: spot\n",
      "\n",
      "spot:ETHUSDT:60\n",
      "symbol: ETHUSDT\n",
      "category: spot\n",
      "\n"
     ]
    }
   ],
   "source": [
    "# price data is not printed\n",
    "klines = get_klines()\n",
    "for kline in klines:\n",
    "        print(kline)\n",
    "        print(klines[kline])"
   ]
  },
  {
   "cell_type": "code",
   "execution_count": 9,
   "metadata": {},
   "outputs": [
    {
     "name": "stdout",
     "output_type": "stream",
     "text": [
      "category: spot\n",
      "symbol: BTCUSDT\n",
      "baseCoin: BTC\n",
      "quoteCoin: USDT\n",
      "innovation: 0\n",
      "status: Trading\n",
      "basePrecision: 0.000001\n",
      "quotePrecision: 0.00000001\n",
      "minOrderQty: 0.00004\n",
      "maxOrderQty: 500\n",
      "minOrderAmt: 1\n",
      "maxOrderAmt: 1200000\n",
      "tickSize: 0.01\n",
      "\n",
      "symbol: BTCUSDT\n",
      "category: spot\n",
      "\n"
     ]
    }
   ],
   "source": [
    "# getting single instrument with key\n",
    "print(instruments['spot:BTCUSDT'])\n",
    "print(klines['spot:BTCUSDT:60'])"
   ]
  },
  {
   "cell_type": "code",
   "execution_count": 11,
   "metadata": {},
   "outputs": [
    {
     "name": "stdout",
     "output_type": "stream",
     "text": [
      "spot:BTCUSDT\n",
      "spot:ETHUSDT\n",
      "spot:XRPUSDT\n",
      "spot:ADAUSDT\n",
      "spot:AAVEUSDT\n"
     ]
    }
   ],
   "source": [
    "# Adding several instrumets obj's (no repetitions)\n",
    "instruments2 = InstrumentsInfo()\n",
    "instruments2.add_instruments('spot', ['ADAUSDT', 'AAVEUSDT', 'XRPUSDT'])\n",
    "\n",
    "instruments += instruments2\n",
    "for instrument in instruments:\n",
    "    print(instrument)"
   ]
  },
  {
   "cell_type": "code",
   "execution_count": 12,
   "metadata": {},
   "outputs": [
    {
     "name": "stdout",
     "output_type": "stream",
     "text": [
      "spot:BTCUSDT\n",
      "spot:ETHUSDT\n",
      "spot:XRPUSDT\n",
      "spot:ADAUSDT\n",
      "spot:AAVEUSDT\n"
     ]
    }
   ],
   "source": [
    "# saving loading data\n",
    "db.save('instruments', instruments)\n",
    "instruments_test = db.load('instruments')\n",
    "\n",
    "for instrument in instruments_test:\n",
    "    print(instrument)"
   ]
  },
  {
   "cell_type": "code",
   "execution_count": 13,
   "metadata": {},
   "outputs": [
    {
     "name": "stdout",
     "output_type": "stream",
     "text": [
      "spot:BTCUSDT\n",
      "spot:ETHUSDT\n",
      "spot:XRPUSDT\n",
      "spot:ADAUSDT\n",
      "spot:AAVEUSDT\n",
      "spot:BTCUSDT:60\n",
      "spot:ETHUSDT:60\n"
     ]
    }
   ],
   "source": [
    "# loading all data\n",
    "db.save('klines', klines)\n",
    "all = db.load_all()\n",
    "for item in all:\n",
    "    for i in item:\n",
    "        print(i)"
   ]
  }
 ],
 "metadata": {
  "kernelspec": {
   "display_name": "Python 3",
   "language": "python",
   "name": "python3"
  },
  "language_info": {
   "codemirror_mode": {
    "name": "ipython",
    "version": 3
   },
   "file_extension": ".py",
   "mimetype": "text/x-python",
   "name": "python",
   "nbconvert_exporter": "python",
   "pygments_lexer": "ipython3",
   "version": "3.10.11"
  },
  "orig_nbformat": 4
 },
 "nbformat": 4,
 "nbformat_minor": 2
}
